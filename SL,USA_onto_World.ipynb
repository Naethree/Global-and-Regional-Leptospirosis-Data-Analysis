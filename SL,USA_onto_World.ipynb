{
  "nbformat": 4,
  "nbformat_minor": 0,
  "metadata": {
    "colab": {
      "provenance": []
    },
    "kernelspec": {
      "name": "python3",
      "display_name": "Python 3"
    },
    "language_info": {
      "name": "python"
    }
  },
  "cells": [
    {
      "cell_type": "code",
      "execution_count": 3,
      "metadata": {
        "colab": {
          "base_uri": "https://localhost:8080/"
        },
        "id": "rAUOAhHJOKW8",
        "outputId": "5d12b3fb-c07c-4af8-8d5f-f8d9a79b7502"
      },
      "outputs": [
        {
          "output_type": "stream",
          "name": "stdout",
          "text": [
            "Drive already mounted at /content/drive; to attempt to forcibly remount, call drive.mount(\"/content/drive\", force_remount=True).\n",
            "World.csv has been updated with Sri Lanka and USA cases.\n"
          ]
        }
      ],
      "source": [
        "import pandas as pd\n",
        "from google.colab import drive\n",
        "\n",
        "# Mount Google Drive\n",
        "drive.mount('/content/drive')\n",
        "\n",
        "# File paths\n",
        "base_path = '/content/drive/My Drive/Big Data/Final/'\n",
        "world_file = base_path + 'World.csv'\n",
        "sri_lanka_file = base_path + 'SriLanka.csv'\n",
        "usa_file = base_path + 'USA.csv'\n",
        "\n",
        "# Load the CSV files\n",
        "world_df = pd.read_csv(world_file)\n",
        "sri_lanka_df = pd.read_csv(sri_lanka_file)\n",
        "usa_df = pd.read_csv(usa_file)\n",
        "\n",
        "# Sum the cases for each year in SriLanka.csv\n",
        "sri_lanka_sum = sri_lanka_df.groupby('Year')['Cases'].sum().reset_index()\n",
        "sri_lanka_sum['Country'] = 'Sri Lanka'\n",
        "sri_lanka_sum['Deaths'] = 'NA'\n",
        "\n",
        "# Sum the cases for each year in USA.csv\n",
        "usa_sum = usa_df.groupby('Year')['Cases'].sum().reset_index()\n",
        "usa_sum['Country'] = 'USA'\n",
        "usa_sum['Deaths'] = 'NA'\n",
        "\n",
        "# Rename columns to match World.csv\n",
        "sri_lanka_sum = sri_lanka_sum[['Country', 'Year', 'Cases', 'Deaths']]\n",
        "usa_sum = usa_sum[['Country', 'Year', 'Cases', 'Deaths']]\n",
        "\n",
        "# Combine the new rows with the existing World.csv data using concat\n",
        "updated_world_df = pd.concat([world_df, sri_lanka_sum, usa_sum], ignore_index=True)\n",
        "\n",
        "# Save the updated World.csv back to Google Drive\n",
        "updated_world_df.to_csv(world_file, index=False)\n",
        "\n",
        "print(\"World.csv has been updated with Sri Lanka and USA cases.\")\n",
        "\n"
      ]
    }
  ]
}