{
  "nbformat": 4,
  "nbformat_minor": 0,
  "metadata": {
    "colab": {
      "provenance": []
    },
    "kernelspec": {
      "name": "python3",
      "display_name": "Python 3"
    },
    "language_info": {
      "name": "python"
    }
  },
  "cells": [
    {
      "cell_type": "code",
      "source": [
        "!pip install pymongo"
      ],
      "metadata": {
        "colab": {
          "base_uri": "https://localhost:8080/"
        },
        "id": "BBF6vwFgWSxW",
        "outputId": "0dd17be2-83b2-4845-a902-931fcc37f0bc"
      },
      "execution_count": 4,
      "outputs": [
        {
          "output_type": "stream",
          "name": "stdout",
          "text": [
            "Collecting pymongo\n",
            "  Downloading pymongo-4.8.0-cp310-cp310-manylinux_2_17_x86_64.manylinux2014_x86_64.whl.metadata (22 kB)\n",
            "Collecting dnspython<3.0.0,>=1.16.0 (from pymongo)\n",
            "  Downloading dnspython-2.6.1-py3-none-any.whl.metadata (5.8 kB)\n",
            "Downloading pymongo-4.8.0-cp310-cp310-manylinux_2_17_x86_64.manylinux2014_x86_64.whl (1.2 MB)\n",
            "\u001b[2K   \u001b[90m━━━━━━━━━━━━━━━━━━━━━━━━━━━━━━━━━━━━━━━━\u001b[0m \u001b[32m1.2/1.2 MB\u001b[0m \u001b[31m6.2 MB/s\u001b[0m eta \u001b[36m0:00:00\u001b[0m\n",
            "\u001b[?25hDownloading dnspython-2.6.1-py3-none-any.whl (307 kB)\n",
            "\u001b[2K   \u001b[90m━━━━━━━━━━━━━━━━━━━━━━━━━━━━━━━━━━━━━━━━\u001b[0m \u001b[32m307.7/307.7 kB\u001b[0m \u001b[31m19.8 MB/s\u001b[0m eta \u001b[36m0:00:00\u001b[0m\n",
            "\u001b[?25hInstalling collected packages: dnspython, pymongo\n",
            "Successfully installed dnspython-2.6.1 pymongo-4.8.0\n"
          ]
        }
      ]
    },
    {
      "cell_type": "code",
      "source": [
        "from google.colab import drive\n",
        "drive.mount('/content/drive')"
      ],
      "metadata": {
        "colab": {
          "base_uri": "https://localhost:8080/"
        },
        "id": "cQwhodYsWq8r",
        "outputId": "591120a0-e863-4b92-bb24-e04dce28ea5b"
      },
      "execution_count": 6,
      "outputs": [
        {
          "output_type": "stream",
          "name": "stdout",
          "text": [
            "Mounted at /content/drive\n"
          ]
        }
      ]
    },
    {
      "cell_type": "code",
      "execution_count": 8,
      "metadata": {
        "colab": {
          "base_uri": "https://localhost:8080/"
        },
        "id": "eL_AH8owWME2",
        "outputId": "d5d1ba8a-083a-4482-ca68-982901404153"
      },
      "outputs": [
        {
          "output_type": "stream",
          "name": "stdout",
          "text": [
            "Data inserted successfully!\n"
          ]
        }
      ],
      "source": [
        "import pandas as pd\n",
        "from pymongo import MongoClient\n",
        "\n",
        "# Step 1: Connect to MongoDB using the provided connection string\n",
        "#CONNECTION_STRING = insert yours\n",
        "client = MongoClient(CONNECTION_STRING)\n",
        "\n",
        "# Access the database (you can name it anything you like)\n",
        "db = client[\"leptospirosis_db\"]\n",
        "\n",
        "# Step 2: Read CSV files\n",
        "world_df = pd.read_csv(\"/content/drive/My Drive/Big Data/Final/World.csv\")\n",
        "sri_lanka_df = pd.read_csv(\"/content/drive/My Drive/Big Data/Final/SriLanka.csv\")\n",
        "usa_df = pd.read_csv(\"/content/drive/My Drive/Big Data/Final/USA.csv\")\n",
        "\n",
        "# Step 3: Insert World Data\n",
        "world_collection = db[\"world\"]\n",
        "world_data = world_df.to_dict(orient=\"records\")\n",
        "world_collection.insert_many(world_data)\n",
        "\n",
        "# Step 4: Insert Sri Lanka Data\n",
        "sri_lanka_collection = db[\"sri_lanka\"]\n",
        "sri_lanka_data = sri_lanka_df.to_dict(orient=\"records\")\n",
        "sri_lanka_collection.insert_many(sri_lanka_data)\n",
        "\n",
        "# Step 5: Insert USA Data\n",
        "usa_collection = db[\"usa\"]\n",
        "usa_data = usa_df.to_dict(orient=\"records\")\n",
        "usa_collection.insert_many(usa_data)\n",
        "\n",
        "print(\"Data inserted successfully!\")\n"
      ]
    }
  ]
}